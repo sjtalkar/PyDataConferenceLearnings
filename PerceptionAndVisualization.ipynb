{
 "cells": [
  {
   "cell_type": "markdown",
   "metadata": {},
   "source": [
    "![](img/logo.288981a8dfa8.png)\n",
    "\n",
    "# Perception in Visualization with Python\n",
    "## Steve Elston\n",
    "## Presented at PyData Seattle, November 4, 2019  \n",
    "\n",
    "In this lesson we will investigate techniques to maximize the information viewers perceive from data visualizations. Creating visualization with techniques that account for human perception can highlight important insights. When faced with trying to understand complex datasets the limits of human perception become a significant factor. To better explore such complex data you can apply the results of the considerable research available on human perceptions for data visualization.    \n",
    "\n",
    "We will use several Python packages to create the  visualizations, [matplotlib](https://matplotlib.org/), [Pandas plotting](https://pandas.pydata.org/pandas-docs/stable/user_guide/visualization.html), and [seaborn](https://seaborn.pydata.org/). The code examples in this notebook use each of these packages. \n",
    "\n",
    "For these lessons we will be working with a data set containing the prices and characteristics of a number of automobiles. The ultimate goal is to understand the relationship between the price of a car and its characteristics. "
   ]
  },
  {
   "cell_type": "code",
   "execution_count": null,
   "metadata": {},
   "outputs": [],
   "source": []
  },
  {
   "cell_type": "markdown",
   "metadata": {},
   "source": [
    "## Outline\n",
    "\n",
    "These lessons are divided into three parts. In each part we will explore one aspect of using Python visualization tools to effectively understand the relationships in complex datasets. Primarily, we will work with plot aesthetics used to highlight relationships for complex datasets. By plot aesthetics we mean properties of a visualization which highlight aspects of the data relationships.  \n",
    "\n",
    "1. **Easy to perceive plot aesthetics:** We will start by applying some aesthetics which generally are easy for people to perceive. Using these aesthetics can enhance viewers' understanding of key relationships in complex datasets.   \n",
    "  - Marker position,\n",
    "  - Bar length,\n",
    "  - Aspect ratio,\n",
    "  - Sequential and divergent color palettes,   \n",
    "  - Maker size.   \n",
    "    \n",
    "2. **Aesthetics with limited perceptive power:** We will review some commonly used aesthetics which are often used, but which may not be the best choices for human perception. Used with care, these aesthetics can still be useful in highlighting relationships in complex datasets.   \n",
    "  - Qualitative color palettes,\n",
    "  - Line type,\n",
    "  - Marker shape.\n",
    "     \n",
    "3. **Plotting with multiple views:** Understanding complex datasets can require multiple views, sometimes even for the same relationship. These views can be as simple as a comparison plots or as plots which slice complex datasets into understandable projections.    \n",
    "  - Comparing side by side plots of subsets of a complex data,\n",
    "  - Pairwise scatter plots for visualization of pairwise combinations of the variables, \n",
    "  - Faceted, conditioned or small multiple plots are all names for a method which produces visual slices through complex data.   \n"
   ]
  },
  {
   "cell_type": "markdown",
   "metadata": {},
   "source": [
    "\n",
    "## About this Jupyter Notebook\n",
    "This notebook contains material to help you learn how to maximize human perception when visualizing data. This notebook and the data set can be downloaded from GitHub:\n",
    "\n",
    "**https://github.com/StephenElston/ExploringDataWithPython**  \n",
    "\n",
    "The material are in the **/PerceptionAndVisualization** directory. \n",
    "\n",
    "This notebook was constructed using the Anconda 3.7 Python distribution. If you are not running version Anaconda 3.5 or higher, we suggest you update your Anaconda distribution now.  You can download the Python 3 Anaconda distribution for your operating system from the [Continum Analytics web site](https://www.continuum.io/downloads)\n",
    "\n",
    "To run this notebook you need to install the Seaborn graphics packages. If you have not done so, you will need to install Seaborn as it is not in the Anaconda distribution as of now. From a command prompt on your computer type the following command. If no errors occur, you will have installed Seaborn.\n",
    "\n",
    "``pip install seaborn``\n",
    "\n",
    "or\n",
    "\n",
    "``conda install seaborn``\n",
    "\n",
    "More information on installing seaborn can be seen on the [Installing and getting started](http://seaborn.pydata.org/installing.html) page.\n",
    "\n"
   ]
  },
  {
   "cell_type": "markdown",
   "metadata": {},
   "source": [
    "\n",
    "## About Me\n",
    "\n",
    "These lessons have been prepared by:\n",
    "\n",
    "**Steve Elston**\n",
    "\n",
    "- Co-founder and principle consultant Quantia Analytics, LLC \n",
    "- Instructor, University of Washington and Harvard University Extension School.\n",
    "- Creator and maintainer of four edX data science and ML/AI courses\n",
    "- Decades of experience in predictive analytics and machine learning \n",
    "- Experience in several industries: payment, telecom, capital markets, logistics, energy\n",
    "- PhD, MS in Geophysics from Princeton University\n"
   ]
  },
  {
   "cell_type": "markdown",
   "metadata": {},
   "source": [
    "\n",
    "## About the data sets\n",
    "\n",
    "The automotive dataset is from the [Univeristy of California Irving Machine Learning Repository](https://archive.ics.uci.edu/ml/datasets/Automobile)  The data was compiled by Jeffrey C. Schlimmer from the following sources:\n",
    "\n",
    "- 1985 Model Import Car and Truck Specifications, 1985 Ward's Automotive Yearbook. \n",
    "- Personal Auto Manuals, Insurance Services Office, 160 Water Street, New York, NY 10038 \n",
    "- Insurance Collision Report, Insurance Institute for Highway Safety, Watergate 600, Washington, DC 20037\n",
    "\n",
    "The raw sunspot dataset come from the [SISLO World Data Center](http://www.sidc.be/silso/home). The time series used here is from [R datasets package](https://stat.ethz.ch/R-manual/R-devel/library/datasets/html/sunspot.month.html)"
   ]
  },
  {
   "cell_type": "markdown",
   "metadata": {},
   "source": [
    "## Why visualization and Exploratory Data Analysis?\n",
    "\n",
    "Visualization is an essential method in any data scientist’s toolbox. Visualization is a key first step in the exploration of most data sets. These process exploring data visually and with simple summary statistics is known as Exploratory Data Analysis (EDA).    \n",
    "\n",
    "As a general rule, you should never start creating analytical or machine learning models until you have examined the data and understand the relationships. Otherwise, you risk wasting your time creating models blindly. \n",
    "\n",
    "Visualization is also a powerful tool for presentation of results and for determining sources of problems with analytics. \n",
    "\n",
    "The concepts of exploring and analyzing a data set visually was pioneered by John Tukey in the 1960s and 1970s. Tukey consolidated his many ideas on data exploration into a book in the late 1970s, *John Tukey, Exploratory Data Analysis, 1977, Addison-Westley*.\n",
    "\n",
    "<img src=\"img/Tukey.jpg\" alt=\"Drawing\" style=\"width:150px; height:200px\"/>\n",
    "\n",
    "\n",
    "Bill Cleveland documented his seminal work in visualization of complex data sets in his book, *William S. Cleveland, Visualizing Data, 1993, Hobart Press*.\n",
    "\n",
    "<img src=\"img/Cleveland.jpg\" alt=\"Drawing\" style=\"width:150px; height:200px\"/>\n",
    "\n",
    "\n",
    "Edward Tufte is well know for his different take on data exploration and visualizaion. His first book outlined many of his key ideas: *Edward Tufte, Envisioning Information, Graphics Press, 1990*. His more famous book first appeared in 1993, and is still widely available: *Edward Tufte, Envisioning Information, 2nd Edition, Graphics Press, 2001*.\n",
    "\n",
    "<img src=\"img/Tufte.jpg\" alt=\"Drawing\" style=\"width:150px; height:200px\"/>\n",
    "\n",
    "The key concept of exploratory data analysis (EDA) or visual exploration of data is to understand the relationships in the data set. Specifically, using visualization when you approach a new data set you can:\n",
    "\n",
    "- Explore complex data sets, using visualization to develop understanding of the inherent relationships.\n",
    "- Use different chart types to create multiple views of data to highlight different aspects of the inherent relationships.\n",
    "- Use plot aesthetics to project multiple dimensions. \n",
    "- Apply conditioning or faceting methods to project multiple dimensions\n"
   ]
  },
  {
   "cell_type": "markdown",
   "metadata": {},
   "source": [
    "## Resources\n",
    "\n",
    "In this tutorial we will work with two powerful Python packages, Pandas and Seaborn. Both packages have extensive online documentation. There is an extensive tutorial on [**Visualizaton with Pandas**](http://pandas.pydata.org/pandas-docs/version/0.18.0/visualization.html).  The [**Seaborn tutorial**](https://stanford.edu/~mwaskom/software/seaborn/tutorial.html) contains many examples of data visualization. The matplotlib web site has additional [**resources for learning to use this package**](http://matplotlib.org/resources/index.html)."
   ]
  },
  {
   "cell_type": "markdown",
   "metadata": {},
   "source": [
    "## Load the data set\n",
    "\n",
    "Let's get started. The function shown in the cell below loads the data from the .csv file. Some minimal clean up is performed on the data. Rows with missing values are dropped and some columns are converted from strings containing numbers to numeric data. \n",
    "\n",
    "Execute the code in this cell to load the packages you will need for this notebook.\n",
    "\n",
    "***\n",
    "**Note:** The IPyhon magic command `%matplotlib inline` enables the display of graphics inline with the Python code. If you do not include this command your graphs will not be displayed. \n",
    "***"
   ]
  },
  {
   "cell_type": "code",
   "execution_count": 1,
   "metadata": {},
   "outputs": [],
   "source": [
    "import pandas as pd\n",
    "import numpy as np\n",
    "import seaborn as sns\n",
    "from math import log, sqrt, sin\n",
    "import matplotlib.pyplot as plt\n",
    "%matplotlib inline "
   ]
  },
  {
   "cell_type": "markdown",
   "metadata": {},
   "source": [
    "Execute the code in this cell to load the data into your notebook and do some cleanup of the data. **Make sure you have the .csv file in your working directory!**"
   ]
  },
  {
   "cell_type": "code",
   "execution_count": 2,
   "metadata": {},
   "outputs": [],
   "source": [
    "def read_auto_data(fileName = \"Automobile price data.csv\"):\n",
    "    'Function to load the auto price data set from a .csv file' \n",
    "\n",
    "    ## Read the .csv file with the pandas read_csv method\n",
    "    auto_prices = pd.read_csv(fileName)\n",
    "    \n",
    "    ## Remove rows with missing values, accounting for mising values coded as '?'\n",
    "    cols = ['price', 'bore', 'stroke', \n",
    "          'horsepower', 'peak-rpm']\n",
    "    for column in cols:\n",
    "        auto_prices.loc[auto_prices[column] == '?', column] = np.nan\n",
    "    auto_prices.dropna(axis = 0, inplace = True)\n",
    "\n",
    "    ## Convert some columns to numeric values\n",
    "    for column in cols:\n",
    "        auto_prices[column] = pd.to_numeric(auto_prices[column])\n",
    "        \n",
    "    return auto_prices\n",
    "auto_prices = read_auto_data()"
   ]
  },
  {
   "cell_type": "code",
   "execution_count": 14,
   "metadata": {},
   "outputs": [
    {
     "name": "stdout",
     "output_type": "stream",
     "text": [
      "    a   b\n",
      "0  1?  4?\n",
      "1  2?   ?\n",
      "2   3  6?\n"
     ]
    },
    {
     "data": {
      "text/html": [
       "<div>\n",
       "<style scoped>\n",
       "    .dataframe tbody tr th:only-of-type {\n",
       "        vertical-align: middle;\n",
       "    }\n",
       "\n",
       "    .dataframe tbody tr th {\n",
       "        vertical-align: top;\n",
       "    }\n",
       "\n",
       "    .dataframe thead th {\n",
       "        text-align: right;\n",
       "    }\n",
       "</style>\n",
       "<table border=\"1\" class=\"dataframe\">\n",
       "  <thead>\n",
       "    <tr style=\"text-align: right;\">\n",
       "      <th></th>\n",
       "      <th>a</th>\n",
       "      <th>b</th>\n",
       "    </tr>\n",
       "  </thead>\n",
       "  <tbody>\n",
       "    <tr>\n",
       "      <th>0</th>\n",
       "      <td>1?</td>\n",
       "      <td>4?</td>\n",
       "    </tr>\n",
       "    <tr>\n",
       "      <th>1</th>\n",
       "      <td>2?</td>\n",
       "      <td>NaN</td>\n",
       "    </tr>\n",
       "    <tr>\n",
       "      <th>2</th>\n",
       "      <td>3</td>\n",
       "      <td>6?</td>\n",
       "    </tr>\n",
       "  </tbody>\n",
       "</table>\n",
       "</div>"
      ],
      "text/plain": [
       "    a    b\n",
       "0  1?   4?\n",
       "1  2?  NaN\n",
       "2   3   6?"
      ]
     },
     "execution_count": 14,
     "metadata": {},
     "output_type": "execute_result"
    }
   ],
   "source": [
    " df = pd.DataFrame({'a': ['1?', '2?', '3'], 'b': ['4?', '?', '6?']})\n",
    "    \n",
    " print(df)\n",
    "\n",
    "df.replace({r'?': np.NaN}, regex=False)"
   ]
  },
  {
   "cell_type": "markdown",
   "metadata": {},
   "source": [
    "The code in the cell below first gives the columns Python-friendly names. Then using the Pandas ``head`` method a sample of the data is displayed. Execute this code and examine the result. "
   ]
  },
  {
   "cell_type": "code",
   "execution_count": 15,
   "metadata": {},
   "outputs": [
    {
     "data": {
      "text/html": [
       "<div>\n",
       "<style scoped>\n",
       "    .dataframe tbody tr th:only-of-type {\n",
       "        vertical-align: middle;\n",
       "    }\n",
       "\n",
       "    .dataframe tbody tr th {\n",
       "        vertical-align: top;\n",
       "    }\n",
       "\n",
       "    .dataframe thead th {\n",
       "        text-align: right;\n",
       "    }\n",
       "</style>\n",
       "<table border=\"1\" class=\"dataframe\">\n",
       "  <thead>\n",
       "    <tr style=\"text-align: right;\">\n",
       "      <th></th>\n",
       "      <th>symboling</th>\n",
       "      <th>normalized_losses</th>\n",
       "      <th>make</th>\n",
       "      <th>fuel_type</th>\n",
       "      <th>aspiration</th>\n",
       "      <th>num_of_doors</th>\n",
       "      <th>body_style</th>\n",
       "      <th>drive_wheels</th>\n",
       "      <th>engine_location</th>\n",
       "      <th>wheel_base</th>\n",
       "      <th>...</th>\n",
       "      <th>engine_size</th>\n",
       "      <th>fuel_system</th>\n",
       "      <th>bore</th>\n",
       "      <th>stroke</th>\n",
       "      <th>compression_ratio</th>\n",
       "      <th>horsepower</th>\n",
       "      <th>peak_rpm</th>\n",
       "      <th>city_mpg</th>\n",
       "      <th>highway_mpg</th>\n",
       "      <th>price</th>\n",
       "    </tr>\n",
       "  </thead>\n",
       "  <tbody>\n",
       "    <tr>\n",
       "      <th>0</th>\n",
       "      <td>3</td>\n",
       "      <td>?</td>\n",
       "      <td>alfa-romero</td>\n",
       "      <td>gas</td>\n",
       "      <td>std</td>\n",
       "      <td>two</td>\n",
       "      <td>convertible</td>\n",
       "      <td>rwd</td>\n",
       "      <td>front</td>\n",
       "      <td>88.6</td>\n",
       "      <td>...</td>\n",
       "      <td>130</td>\n",
       "      <td>mpfi</td>\n",
       "      <td>3.47</td>\n",
       "      <td>2.68</td>\n",
       "      <td>9.0</td>\n",
       "      <td>111</td>\n",
       "      <td>5000</td>\n",
       "      <td>21</td>\n",
       "      <td>27</td>\n",
       "      <td>13495</td>\n",
       "    </tr>\n",
       "    <tr>\n",
       "      <th>1</th>\n",
       "      <td>3</td>\n",
       "      <td>?</td>\n",
       "      <td>alfa-romero</td>\n",
       "      <td>gas</td>\n",
       "      <td>std</td>\n",
       "      <td>two</td>\n",
       "      <td>convertible</td>\n",
       "      <td>rwd</td>\n",
       "      <td>front</td>\n",
       "      <td>88.6</td>\n",
       "      <td>...</td>\n",
       "      <td>130</td>\n",
       "      <td>mpfi</td>\n",
       "      <td>3.47</td>\n",
       "      <td>2.68</td>\n",
       "      <td>9.0</td>\n",
       "      <td>111</td>\n",
       "      <td>5000</td>\n",
       "      <td>21</td>\n",
       "      <td>27</td>\n",
       "      <td>16500</td>\n",
       "    </tr>\n",
       "    <tr>\n",
       "      <th>2</th>\n",
       "      <td>1</td>\n",
       "      <td>?</td>\n",
       "      <td>alfa-romero</td>\n",
       "      <td>gas</td>\n",
       "      <td>std</td>\n",
       "      <td>two</td>\n",
       "      <td>hatchback</td>\n",
       "      <td>rwd</td>\n",
       "      <td>front</td>\n",
       "      <td>94.5</td>\n",
       "      <td>...</td>\n",
       "      <td>152</td>\n",
       "      <td>mpfi</td>\n",
       "      <td>2.68</td>\n",
       "      <td>3.47</td>\n",
       "      <td>9.0</td>\n",
       "      <td>154</td>\n",
       "      <td>5000</td>\n",
       "      <td>19</td>\n",
       "      <td>26</td>\n",
       "      <td>16500</td>\n",
       "    </tr>\n",
       "    <tr>\n",
       "      <th>3</th>\n",
       "      <td>2</td>\n",
       "      <td>164</td>\n",
       "      <td>audi</td>\n",
       "      <td>gas</td>\n",
       "      <td>std</td>\n",
       "      <td>four</td>\n",
       "      <td>sedan</td>\n",
       "      <td>fwd</td>\n",
       "      <td>front</td>\n",
       "      <td>99.8</td>\n",
       "      <td>...</td>\n",
       "      <td>109</td>\n",
       "      <td>mpfi</td>\n",
       "      <td>3.19</td>\n",
       "      <td>3.40</td>\n",
       "      <td>10.0</td>\n",
       "      <td>102</td>\n",
       "      <td>5500</td>\n",
       "      <td>24</td>\n",
       "      <td>30</td>\n",
       "      <td>13950</td>\n",
       "    </tr>\n",
       "    <tr>\n",
       "      <th>4</th>\n",
       "      <td>2</td>\n",
       "      <td>164</td>\n",
       "      <td>audi</td>\n",
       "      <td>gas</td>\n",
       "      <td>std</td>\n",
       "      <td>four</td>\n",
       "      <td>sedan</td>\n",
       "      <td>4wd</td>\n",
       "      <td>front</td>\n",
       "      <td>99.4</td>\n",
       "      <td>...</td>\n",
       "      <td>136</td>\n",
       "      <td>mpfi</td>\n",
       "      <td>3.19</td>\n",
       "      <td>3.40</td>\n",
       "      <td>8.0</td>\n",
       "      <td>115</td>\n",
       "      <td>5500</td>\n",
       "      <td>18</td>\n",
       "      <td>22</td>\n",
       "      <td>17450</td>\n",
       "    </tr>\n",
       "  </tbody>\n",
       "</table>\n",
       "<p>5 rows × 26 columns</p>\n",
       "</div>"
      ],
      "text/plain": [
       "   symboling normalized_losses         make fuel_type aspiration num_of_doors  \\\n",
       "0          3                 ?  alfa-romero       gas        std          two   \n",
       "1          3                 ?  alfa-romero       gas        std          two   \n",
       "2          1                 ?  alfa-romero       gas        std          two   \n",
       "3          2               164         audi       gas        std         four   \n",
       "4          2               164         audi       gas        std         four   \n",
       "\n",
       "    body_style drive_wheels engine_location  wheel_base  ...  engine_size  \\\n",
       "0  convertible          rwd           front        88.6  ...          130   \n",
       "1  convertible          rwd           front        88.6  ...          130   \n",
       "2    hatchback          rwd           front        94.5  ...          152   \n",
       "3        sedan          fwd           front        99.8  ...          109   \n",
       "4        sedan          4wd           front        99.4  ...          136   \n",
       "\n",
       "   fuel_system  bore  stroke compression_ratio horsepower  peak_rpm city_mpg  \\\n",
       "0         mpfi  3.47    2.68               9.0        111      5000       21   \n",
       "1         mpfi  3.47    2.68               9.0        111      5000       21   \n",
       "2         mpfi  2.68    3.47               9.0        154      5000       19   \n",
       "3         mpfi  3.19    3.40              10.0        102      5500       24   \n",
       "4         mpfi  3.19    3.40               8.0        115      5500       18   \n",
       "\n",
       "   highway_mpg  price  \n",
       "0           27  13495  \n",
       "1           27  16500  \n",
       "2           26  16500  \n",
       "3           30  13950  \n",
       "4           22  17450  \n",
       "\n",
       "[5 rows x 26 columns]"
      ]
     },
     "execution_count": 15,
     "metadata": {},
     "output_type": "execute_result"
    }
   ],
   "source": [
    "## Give columns Python-friendly names\n",
    "auto_prices.columns = ['symboling', 'normalized_losses', 'make', 'fuel_type', 'aspiration',\n",
    "       'num_of_doors', 'body_style', 'drive_wheels', 'engine_location',\n",
    "       'wheel_base', 'length', 'width', 'height', 'curb_weight', 'engine_type',\n",
    "       'num_of_cylinders', 'engine_size', 'fuel_system', 'bore', 'stroke',\n",
    "       'compression_ratio', 'horsepower', 'peak_rpm', 'city_mpg',\n",
    "       'highway_mpg', 'price']\n",
    "\n",
    "## Look at the head of the dataframe\n",
    "auto_prices.head()"
   ]
  },
  {
   "cell_type": "markdown",
   "metadata": {},
   "source": [
    "## Easy to Perceive Plot Aesthetics\n",
    "\n",
    "In this section we will explore some plot aesthetics and attributes which maximizes human perception. By employing these aesthetics or plot attributes you can create visualizations that are more likely to highlight key relationships of your dataset.  "
   ]
  },
  {
   "cell_type": "markdown",
   "metadata": {},
   "source": [
    "### Marker Position and Scatter Plots\n",
    "\n",
    "Human perception of even small differences in position is quite acute. This acute perceptual difference makes scatter plots and other plots using position quite effective. Thus, scatter plots are one of the most useful and powerful of plot types. This despite the apparent simplicity. \n",
    "\n",
    "Scatter plots show the relationship between two variables in the form of dots on the plot. In simple terms, the values along a horizontal axis are plotted against a vertical axis. The scatter plot is a display of value vs. positions. \n",
    "\n",
    "Execute the code in the cell below to create a scatter plot of city mpg vs. curb weight. "
   ]
  },
  {
   "cell_type": "code",
   "execution_count": 16,
   "metadata": {
    "scrolled": false
   },
   "outputs": [
    {
     "data": {
      "text/plain": [
       "Text(0, 0.5, 'Vehicle Weight')"
      ]
     },
     "execution_count": 16,
     "metadata": {},
     "output_type": "execute_result"
    },
    {
     "data": {
      "image/png": "[encoded data removed]",
      "text/plain": [
       "<Figure size 576x576 with 1 Axes>"
      ]
     },
     "metadata": {
      "needs_background": "light"
     },
     "output_type": "display_data"
    }
   ],
   "source": [
    "## Define a figure and axes and make a scatter plot\n",
    "fig = plt.figure(figsize=(8, 8)) # define plot area\n",
    "ax = fig.gca() # define axis                   \n",
    "ax.scatter(x = auto_prices.city_mpg, y = auto_prices.curb_weight)\n",
    "ax.set_title('Scatter plot of price vs MPG') # Give the plot a main title\n",
    "ax.set_xlabel('City MPG') # Set text for the x axis\n",
    "ax.set_ylabel('Vehicle Weight')# Set text for y axis"
   ]
  },
  {
   "cell_type": "markdown",
   "metadata": {},
   "source": [
    "In this plot you can see very small differences in the vehicle weight, for each value of city MPG. These values are quite small, in some cases, yet you can easily see the differences. Notice that city MPG is quantized in 1 MPG units. "
   ]
  },
  {
   "cell_type": "markdown",
   "metadata": {},
   "source": [
    "\n",
    ">**Your turn:** In the cell below create and execute code to plot auto price vs City MPG."
   ]
  },
  {
   "cell_type": "code",
   "execution_count": 21,
   "metadata": {},
   "outputs": [
    {
     "data": {
      "image/png": "[encoded data removed]",
      "text/plain": [
       "<Figure size 576x576 with 1 Axes>"
      ]
     },
     "metadata": {
      "needs_background": "light"
     },
     "output_type": "display_data"
    }
   ],
   "source": [
    "## Define a figure and axes and make a scatter plot\n",
    "fig, ax = plt.subplots(nrows=1, ncols=1, figsize=(8, 8)) # define plot area\n",
    "ax.scatter(x = auto_prices['price'], y = auto_prices['city_mpg'], label='MPGVersusPrice', c='violet')\n",
    "ax.set_title('Scatter plot of auto price vs City MPG.') # Give the plot a main title\n",
    "ax.set_ylabel('City MPG') # Set text for the x axis\n",
    "ax.set_xlabel('Auto Price')# Set text for y axis\n",
    "plt.tight_layout()\n"
   ]
  },
  {
   "cell_type": "markdown",
   "metadata": {},
   "source": [
    "### Bar Length and Bar plots\n",
    "\n",
    "Length is another plot aesthetic or attribute for which human perception is quite sensitive. Most people can discern small differences in length. This makes plots using length relationship quite good at highlighting data relationships.  \n",
    "\n",
    "Bar plots are used to display the counts of unique values of a categorical variable. The length of the bar represents the count for each unique category of the variable. Small differences in the counts, resulting in small differences in the bar lengths are quite perceptible.    \n",
    "\n",
    "As a first step, we need the counts of the categorical variables. Pandas has a ``value_counts`` method used in the code below to create a new data frame containing the counts by ``make`` of the car. Execute this code.  "
   ]
  },
  {
   "cell_type": "code",
   "execution_count": 23,
   "metadata": {},
   "outputs": [
    {
     "data": {
      "text/plain": [
       "toyota           32\n",
       "nissan           18\n",
       "mazda            13\n",
       "mitsubishi       13\n",
       "honda            13\n",
       "volkswagen       12\n",
       "subaru           12\n",
       "volvo            11\n",
       "peugot           11\n",
       "dodge             9\n",
       "mercedes-benz     8\n",
       "bmw               8\n",
       "plymouth          7\n",
       "audi              6\n",
       "saab              6\n",
       "porsche           4\n",
       "alfa-romero       3\n",
       "jaguar            3\n",
       "chevrolet         3\n",
       "isuzu             2\n",
       "mercury           1\n",
       "Name: make, dtype: int64"
      ]
     },
     "execution_count": 23,
     "metadata": {},
     "output_type": "execute_result"
    }
   ],
   "source": [
    "counts = auto_prices['make'].value_counts() # find the counts for each unique category\n",
    "counts"
   ]
  },
  {
   "cell_type": "code",
   "execution_count": 51,
   "metadata": {
    "scrolled": true
   },
   "outputs": [
    {
     "data": {
      "image/png": "[encoded data removed]",
      "text/plain": [
       "<Figure size 576x576 with 1 Axes>"
      ]
     },
     "metadata": {
      "needs_background": "light"
     },
     "output_type": "display_data"
    }
   ],
   "source": [
    "fig = plt.figure(figsize=(8,8)) # define plot area\n",
    "plt.bar(counts.index, counts.values )\n",
    "plt.xticks(rotation=90)\n",
    "plt.gca().xaxis.label.set_visible(False)"
   ]
  },
  {
   "cell_type": "markdown",
   "metadata": {},
   "source": [
    "You can see the ordered list of counts by make above. Notice that this data frame has many fewer rows than the original, since it only needs one row for each unique value of the make. \n",
    "\n",
    "Now, create the bar plot of number of autos by make using the ``counts`` data frame, by executing the code in the cell below. Notice, that the recipe for this chart is the same as we have used for scatter plots and line plots, just using the ``.plot.bar`` method. "
   ]
  },
  {
   "cell_type": "code",
   "execution_count": 27,
   "metadata": {},
   "outputs": [
    {
     "data": {
      "text/plain": [
       "Text(0, 0.5, 'Number of autos')"
      ]
     },
     "execution_count": 27,
     "metadata": {},
     "output_type": "execute_result"
    },
    {
     "data": {
      "image/png": "[encoded data removed]",
      "text/plain": [
       "<Figure size 576x576 with 1 Axes>"
      ]
     },
     "metadata": {
      "needs_background": "light"
     },
     "output_type": "display_data"
    }
   ],
   "source": [
    "fig = plt.figure(figsize=(8,8)) # define plot area\n",
    "ax = fig.gca() # define axis    \n",
    "counts.plot.bar(ax = ax) # Use the plot.bar method on the counts data frame\n",
    "ax.set_title('Number of auto types by make') # Give the plot a main title\n",
    "ax.set_xlabel('Make') # Set text for the x axis\n",
    "ax.set_ylabel('Number of autos')# Set text for y axis"
   ]
  },
  {
   "cell_type": "code",
   "execution_count": 32,
   "metadata": {},
   "outputs": [
    {
     "data": {
      "text/plain": [
       "0     alfa-romero\n",
       "1     alfa-romero\n",
       "2     alfa-romero\n",
       "3            audi\n",
       "4            audi\n",
       "5            audi\n",
       "6            audi\n",
       "7            audi\n",
       "8            audi\n",
       "10            bmw\n",
       "Name: make, dtype: object"
      ]
     },
     "execution_count": 32,
     "metadata": {},
     "output_type": "execute_result"
    }
   ],
   "source": [
    "auto_prices['make'][:10]"
   ]
  },
  {
   "cell_type": "code",
   "execution_count": 35,
   "metadata": {},
   "outputs": [
    {
     "data": {
      "text/plain": [
       "(array([3., 0., 0., 0., 0., 6., 0., 0., 0., 1.]),\n",
       " array([0. , 0.2, 0.4, 0.6, 0.8, 1. , 1.2, 1.4, 1.6, 1.8, 2. ]),\n",
       " <a list of 10 Patch objects>)"
      ]
     },
     "execution_count": 35,
     "metadata": {},
     "output_type": "execute_result"
    },
    {
     "data": {
      "image/png": "[encoded data removed]",
      "text/plain": [
       "<Figure size 432x288 with 1 Axes>"
      ]
     },
     "metadata": {
      "needs_background": "light"
     },
     "output_type": "display_data"
    }
   ],
   "source": [
    "plt.hist(auto_prices['make'][:10], orientation='vertical')"
   ]
  },
  {
   "cell_type": "markdown",
   "metadata": {},
   "source": [
    "Examine this plot. You can easily see that several car makers have the same number of models, and that the difference in number of models can be as small as 1. \n",
    "\n",
    ">**Note:** The counts for the above bar chart are ordered (sorted). To maximize human perception, it is important to sort counts for bar charts in either ascending or descending order. \n",
    "\n",
    "It is worth considering commonly used alternatives to a simple bar plot a stacked bar plot and pie charts:\n",
    "- **Stacked bar charts:** When categories are stacked into single bar, the viewer often has difficulty determining the length of the sub-segments in the bars. Except in certain cases, the alignment of the sub-segments will be somewhat random and hard to compare.      \n",
    "- **Pie charts:** Pie charts use area or angle, rather than length to show relative values. Human perception of area and angle is quite poor in general. Further, when there are more than a few categories the small differences in the area of the slices become completely unnoticeable.      "
   ]
  },
  {
   "cell_type": "markdown",
   "metadata": {},
   "source": [
    ">**Your turn:** Make a pie chart of the number of autos by make. Notice the difficulty in clearly interpreting this chart."
   ]
  },
  {
   "cell_type": "code",
   "execution_count": 58,
   "metadata": {},
   "outputs": [
    {
     "data": {
      "text/plain": [
       "(array([], dtype=float64), <a list of 0 Text major ticklabel objects>)"
      ]
     },
     "execution_count": 58,
     "metadata": {},
     "output_type": "execute_result"
    },
    {
     "data": {
      "image/png": "[encoded data removed]",
      "text/plain": [
       "<Figure size 432x288 with 1 Axes>"
      ]
     },
     "metadata": {},
     "output_type": "display_data"
    }
   ],
   "source": [
    "a_pie = plt.pie(counts.values, labels=counts.index)\n",
    "plt.xticks(rotation=60)"
   ]
  },
  {
   "cell_type": "code",
   "execution_count": 59,
   "metadata": {},
   "outputs": [
    {
     "data": {
      "image/png": "[encoded data removed]",
      "text/plain": [
       "<Figure size 432x288 with 1 Axes>"
      ]
     },
     "metadata": {},
     "output_type": "display_data"
    }
   ],
   "source": [
    "group_size=[10,10,10,10,10,50]\n",
    "labels=['AAAA','BBBB','CCCC','DDDD','EEEE','']\n",
    "fig, ax = plt.subplots()\n",
    "ax.axis('equal')\n",
    "pie = ax.pie(group_size, radius=2.2, colors=['k'] ,startangle=180,counterclock=False)\n",
    "pie2 = ax.pie([10,10,10,10,10,50], radius=2,  labeldistance=0.9, labels=labels, \n",
    "              rotatelabels =True, startangle=180,counterclock=False)\n",
    "\n",
    "plt.setp(pie2[1], rotation_mode=\"anchor\", ha=\"center\", va=\"center\")\n",
    "for tx in pie2[1]:\n",
    "    rot = tx.get_rotation()\n",
    "    tx.set_rotation(rot+90+(1-rot//180)*180)\n",
    "\n",
    "plt.show()"
   ]
  },
  {
   "cell_type": "markdown",
   "metadata": {},
   "source": [
    "### Sequential and Divergent Color Palettes\n",
    "\n",
    "Use of **color** as an aesthetic in visualization is a complicated subject. While color is often used, it is also often abused and leads to misleading or uninterpretable results. \n",
    "\n",
    "To structure our discussion, we will define two particular cases for the use of color in visualization:\n",
    "- A **qualitative palette** is a palette of individual colors is used to display categorical values. We will address this case latter. \n",
    "- A **sequential and divergent palettes** is a sequence of colors used to display a quantitative variable. A sequential palette contains a color sequence of changing hue, which corresponds to values of a quantitative variable. A divergent palette has two sequences of hues with a gap in the center. Divergent palettes are useful for quantitative variables with positive and negative values.  \n",
    "\n",
    "When doing data visualization in Python you have the choice of several sets of high quality sequential and divergent color palettes. [There is an extensive set of palette choices with Seaborn](https://seaborn.pydata.org/tutorial/color_palettes.html). Matplotlib contains a [another set of high quality palettes](https://matplotlib.org/3.1.1/tutorials/colors/colormaps.html). These Matplotlib options, including **perceptually uniform palettes**, are expertly designed to optimize human perception. \n",
    "\n",
    "The code in the cell below creates a scatter plot with vehicle price shown using the magma palette from Matplotlib. Magma uses lighter or 'hotter' colors to show larger values of a quantitative variable. Execute this code and examine the results. "
   ]
  },
  {
   "cell_type": "code",
   "execution_count": null,
   "metadata": {},
   "outputs": [],
   "source": [
    "ax = sns.relplot(x = 'city_mpg', y = 'curb_weight', \n",
    "                 hue = 'price', palette = 'magma',\n",
    "                 data=auto_prices,\n",
    "                 height = 8, aspect=1/1)\n",
    "ax.set(title ='City MPG vs. Weight \\nPrice by color', # Give the plot a main title\n",
    "       xlabel = 'City MPG', # Set text for the x axis\n",
    "       ylabel = 'Vehcle Weight') # Set text for y axis   "
   ]
  },
  {
   "cell_type": "markdown",
   "metadata": {},
   "source": [
    "Examine the plot, noticing the general trend from the lower right to the upper left. The lowest weight, highest mileage, autos generally have the lowest price. The highest weight, lowest mileage, cars generally have the highest prices. Within these general trends there are some deviations, but the general trend is clear from the color progression of the palette. \n",
    "\n",
    "While it is hard to draw quantitative conclusions from color progressions, they can help show general trends. This can be done effectively with the correct choice of palette. Best choice of palette to highlight a relationship can take some experimentation.   "
   ]
  },
  {
   "cell_type": "markdown",
   "metadata": {},
   "source": [
    "### Marker Size\n",
    "\n",
    "Another aesthetic which is useful for quantitative variables is **marker size**. As with a well chosen color palette, used properly marker size can highlight important trends in complex datasets. "
   ]
  },
  {
   "cell_type": "code",
   "execution_count": null,
   "metadata": {},
   "outputs": [],
   "source": [
    "ax = sns.relplot(x = 'city_mpg', y = 'curb_weight', \n",
    "                 hue = 'price', palette = 'magma',\n",
    "                 size = 'engine_size', sizes = (50.0, 400.0),\n",
    "                 data=auto_prices,\n",
    "                 height = 8, aspect=1/1)\n",
    "ax.set(title ='City MPG vs. Weight \\nPrice by marker size \\\n",
    "               \\nAspiration by marker shape\\\n",
    "               \\nFuel type by color', # Give the plot a main title\n",
    "       xlabel = 'City MPG', # Set text for the x axis\n",
    "       ylabel = 'Vehicle Weight') # Set text for y axis    "
   ]
  },
  {
   "cell_type": "markdown",
   "metadata": {},
   "source": [
    "Notice that the engine size generally increases with vehicle weight. "
   ]
  },
  {
   "cell_type": "markdown",
   "metadata": {},
   "source": [
    "### Aspect Ratio\n",
    "\n",
    "Changing the aspect ratio has a significant influence on how a viewer perceives a chart. The correct aspect ratio can help highlight important relationships in complex datasets. Conversely, poorly chosen or exaggerated aspect ratios can greatly distort human perception of the data relationship displayed.  \n",
    "\n",
    "We represent aspect ratio as follows:     \n",
    "\n",
    "$$aspect\\ ratio = \\frac{width}{height}\\ : 1$$\n",
    "\n",
    "Let's look at an example of how aspect ratio can change our perception of a dataset. Execute the code in the cell below to load the sunspot data set and examining the head and tail of the data frame. **Make sure you have the .csv file in your working directory!**"
   ]
  },
  {
   "cell_type": "code",
   "execution_count": null,
   "metadata": {},
   "outputs": [],
   "source": [
    "sunspots = pd.read_csv('sunspots.csv')\n",
    "sunspots.loc[:, 'date'] = pd.to_datetime(sunspots.loc[:, 'date'])\n",
    "sunspots.set_index('date', inplace = True)\n",
    "print(sunspots.head())\n",
    "print(sunspots.tail())"
   ]
  },
  {
   "cell_type": "markdown",
   "metadata": {},
   "source": [
    "The sunspot data represents an extraordinarily long time series, of over 260 years. \n",
    "\n",
    "Execute the code in the cell below to make a time series (line) plot of these data with an aspect ratio of 1.33:1. "
   ]
  },
  {
   "cell_type": "code",
   "execution_count": null,
   "metadata": {},
   "outputs": [],
   "source": [
    "ax = plt.figure(figsize=(8, 6)).gca() # define axis\n",
    "sunspots.plot(ax = ax)\n",
    "ax.set_xlabel('Year')\n",
    "ax.set_ylabel('Number of sunspots')\n",
    "ax.set_title('Time series of sunspots')"
   ]
  },
  {
   "cell_type": "markdown",
   "metadata": {},
   "source": [
    "There are two points to notice about the time series displayed here:\n",
    "1. The number of sunspots is periodic in time. This is the well-known *sunspot cycle*.\n",
    "2. Given this aspect ratio, each cycle appears to be symmetric. \n",
    "\n",
    "But, what happens if we change the aspect ratio to 4:1. To find out, execute the code in the cell below."
   ]
  },
  {
   "cell_type": "code",
   "execution_count": null,
   "metadata": {},
   "outputs": [],
   "source": [
    "ax = plt.figure(figsize=(8, 2)).gca() # define axis\n",
    "sunspots.plot(ax = ax)\n",
    "ax.set_xlabel('Year')\n",
    "ax.set_ylabel('Number of sunspots')\n",
    "ax.set_title('Time series of sunspots')"
   ]
  },
  {
   "cell_type": "markdown",
   "metadata": {},
   "source": [
    "With the higher aspect ratio the plot looks rather different. You can now see that each cycle has a fast rise in the rate of sunspots generally followed by a slower fall or decay. This relationship was hard to perceive with the plot using lower aspect ratio."
   ]
  },
  {
   "cell_type": "markdown",
   "metadata": {},
   "source": [
    ">**Your turn:** Try making scatter plots of vehicle weight vs. City MPG with an aspect ratio of 1:2 and 2:1. Notice how these changes affect your perception of the relationship between these variables."
   ]
  },
  {
   "cell_type": "code",
   "execution_count": null,
   "metadata": {},
   "outputs": [],
   "source": []
  },
  {
   "cell_type": "markdown",
   "metadata": {},
   "source": [
    "## Aesthetics with Limited Perceptive Power\n",
    "\n",
    "We have explored some aesthetics with which are easy to perceive, and therefore quite powerful. You may be surprised to learn that some commonly used plot aesthetics are not that easy to perceive, and may not add the insight the visualization creator thinks they might. "
   ]
  },
  {
   "cell_type": "markdown",
   "metadata": {},
   "source": [
    "### Line Plots and Line Type\n",
    "\n",
    "Line plots are similar to point plots. In line plots the discrete points are connected by lines. It is common practice to use different pattern types to differentiate between lines on a graph. While this approach can be effective, it is only useful for a limited number of lines on one graph. The use of too many similar line pattern on one plot leads to viewer confusion and poor perception of the data relationships. In summary, line pattern can be effective, but only when used sparingly.  \n",
    "\n",
    "The code in the cell below creates a dataframe using various transformations of the sunspot data. Execute the code and examine the resulting dataframe. "
   ]
  },
  {
   "cell_type": "code",
   "execution_count": null,
   "metadata": {
    "scrolled": true
   },
   "outputs": [],
   "source": [
    "sunspot_mean = sunspots.mean()[0]\n",
    "y1 = [z/sunspot_mean for z in sunspots.spots]\n",
    "y2 = [log(z + 0.01) for z in y1]\n",
    "y3 = [1.0/(z + 0.1) for z in y1]\n",
    "y4 = [sqrt(z) for z in y1]\n",
    "df = pd.DataFrame({'Date':sunspots.index,'Normalized':y1, 'Log':y2, 'Inverse':y3, 'Sqrt':y4})\n",
    "df.head()"
   ]
  },
  {
   "cell_type": "markdown",
   "metadata": {},
   "source": [
    "Now, we will make a time series plot of these transformed variables using a different line type for each variable. You can find choices for [matplotlib line styles in the documentation](https://matplotlib.org/3.1.0/gallery/lines_bars_and_markers/linestyles.html).\n",
    "\n",
    "To display the plot with the 4 line types, execute the code in the cell below. Notice that the linewidth argument has been set to 1, since it is easier for the human eye to separate thiner lines."
   ]
  },
  {
   "cell_type": "code",
   "execution_count": null,
   "metadata": {},
   "outputs": [],
   "source": [
    "styles = [':','-.','--','-']\n",
    "#lables = ['Normalized','log(x)','1/x','sqrt(x)']\n",
    "\n",
    "fig = plt.figure(figsize=(8, 4)) # define plot area\n",
    "ax = fig.gca() # define axis   \n",
    "temp = df[(df['Date'] > '1900-01-01') & (df['Date'] <= '1919-12-01')]\n",
    "for col, style in zip(temp[['Normalized','Log','Inverse','Sqrt']], styles):    \n",
    "    ax.plot(temp.Date, temp[col], linestyle = style, color = 'b', label=(col+'(sunspots)'), linewidth=1)\n",
    "ax.set_title('Line plot of transformed sunspot data \\nwith multiple line types') # Give the plot a main title\n",
    "ax.set_xlabel('x values') # Set text for the x axis\n",
    "ax.set_ylabel('y values')# Set text for y axis    \n",
    "ax.legend()"
   ]
  },
  {
   "cell_type": "markdown",
   "metadata": {},
   "source": [
    "Examine the plot above and notice that with just 4 types, the lines on the plot are distinct. This is event the case for the normalize sunspots and the square root of the normalized sunspots, which run quite close together. Adding too many line types to a plot such as the above will cause perception problems for the viewer. \n",
    "\n",
    "In principle, a combination of color and line type can be used to make lines distinct. However, this method must be used cautiously. The result can easily be *line spaghetti* which is difficult to understand, at best.  "
   ]
  },
  {
   "cell_type": "markdown",
   "metadata": {},
   "source": [
    "### Qualitative Color Palettes\n",
    "\n",
    "Qualitative (or categorical) color palettes are often used to visualize categorical data. If the number of categories are few and the colors chosen are distinctive, this method can be effective. However, for more than a few categories, or if the choice of color is poor, this method is not effective. The result is often a confusing array or symbols with hard to distinguish colors, which will confound the understanding of the viewer. \n",
    "\n",
    "As an example where a qualitative palette works well consider the scatter plot shown below. There are only two categories and the colors are quite distinctive. "
   ]
  },
  {
   "cell_type": "code",
   "execution_count": null,
   "metadata": {},
   "outputs": [],
   "source": [
    "ax = sns.relplot(x = 'city_mpg', y = 'curb_weight', \n",
    "                 hue = 'fuel_type', \n",
    "                 data=auto_prices,\n",
    "                 height = 8, aspect=1/1)\n",
    "ax.set(title ='City MPG vs. Weight  \\\n",
    "               \\nFule type by color', # Give the plot a main title\n",
    "       xlabel = 'City MPG', # Set text for the x axis\n",
    "       ylabel = 'Vehicle Weight') # Set text for y axis    "
   ]
  },
  {
   "cell_type": "markdown",
   "metadata": {},
   "source": [
    "We can easily see the distinctive relationships for both gas and diesel fueled cars. Using a few categorical colors from a well chosen pallet can be quite effective. \n",
    "\n",
    "But, what happens if there are a larger number of categories. To find out, execute the code in the cell below which displays the make of the auto by categorical color. "
   ]
  },
  {
   "cell_type": "code",
   "execution_count": null,
   "metadata": {},
   "outputs": [],
   "source": [
    "ax = sns.relplot(x = 'city_mpg', y = 'curb_weight', \n",
    "                 hue = 'make', \n",
    "                 data=auto_prices,\n",
    "                 height = 8, aspect=1/1)\n",
    "ax.set(title ='City MPG vs. Weight  \\\n",
    "               \\nMake by color', # Give the plot a main title\n",
    "       xlabel = 'City MPG', # Set text for the x axis\n",
    "       ylabel = 'Vehicle Weight') # Set text for y axis       "
   ]
  },
  {
   "cell_type": "markdown",
   "metadata": {},
   "source": [
    "### Marker Shape\n",
    "\n",
    "Marker shape is another commonly used plot aesthetic for displaying categorical relationships. As with qualitative color palettes, this aesthetic is only useful when two conditions are met:\n",
    "1. The number of categories is small.\n",
    "2. Distinctive shape are chosen for the markers.\n",
    "\n",
    "The code in the cell below uses the relplot method from the Seaborn package to plot a aspiration as a marker type. Execute this code and examine the results. "
   ]
  },
  {
   "cell_type": "code",
   "execution_count": null,
   "metadata": {},
   "outputs": [],
   "source": [
    "ax = sns.relplot(x = 'city_mpg', y = 'curb_weight', \n",
    "                 style = 'aspiration', \n",
    "                 hue = 'fuel_type',\n",
    "                 data=auto_prices,\n",
    "                 height = 8, aspect=1/1)\n",
    "ax.set(title ='City MPG vs. Weight  \\\n",
    "               \\nAspiration by marker shape\\\n",
    "               \\nFuel type by color', # Give the plot a main title\n",
    "       xlabel = 'City MPG', # Set text for the x axis\n",
    "       ylabel = 'Vehicle Weight') # Set text for y axis       "
   ]
  },
  {
   "cell_type": "markdown",
   "metadata": {},
   "source": [
    "The resulting plot above takes a bit of study to see any useful relationship. Several relationships can be noticed:\n",
    "1. For the gas cars, it is clear that for the most part, only cars in the middle of the weight and fuel economy range have turbo aspiration. \n",
    "2. Most diesel cars have turbo aspiration. \n",
    "\n",
    "It is clear that without the color coding of the fuel type these interpretations could not be found. This illustrates a key aspect of visualization for complex data. Very often **multiple plot attributes are needed to understand relationships**. \n",
    "\n",
    "To see an example of a plot with too many categories, execute the code in the cell below which uses marker type to display engine type. "
   ]
  },
  {
   "cell_type": "code",
   "execution_count": null,
   "metadata": {},
   "outputs": [],
   "source": [
    "ax = sns.relplot(x = 'city_mpg', y = 'curb_weight', \n",
    "                 style = 'engine_type',\n",
    "                 hue = 'fuel_type',\n",
    "                 data=auto_prices,\n",
    "                 height = 8, aspect=1/1)\n",
    "ax.set(title ='City MPG vs. Weight  \\\n",
    "               \\nEngine type by marker shape\\\n",
    "               \\nFuel type by color', # Give the plot a main title\n",
    "       xlabel = 'City MPG', # Set text for the x axis\n",
    "       ylabel = 'Vehicle Weight') # Set text for y axis     "
   ]
  },
  {
   "cell_type": "markdown",
   "metadata": {},
   "source": [
    "It is nearly impossible to understand the relationship between the markers in the plot above. "
   ]
  },
  {
   "cell_type": "markdown",
   "metadata": {},
   "source": [
    "## Side by Side and Facet Plots\n",
    "\n",
    "We have explored some basic plot aesthetics and attributes to effectively project key relationships of complex data. Now we will investigate the use of multiple plot axes to highlight relationships in complex datasets. The key idea is that often it is better to have a series of simpler plots showing different projections or subsets of a dataset than a single complex and hard to perceive chart. Complex charts with many colors, markers, line times, etc. displaying a large number of data values can be confusing at best and imperceptible at worse.   \n",
    "\n",
    "There are many possibilities for showing subsets or projections of complex datasets. We will look at three of these. All of these methods use axes with the same scale. Using the same scale is important to ensure correct perception of the relationships in the data.  \n",
    "1. Side by side plots of subsets of the the data can be used to show relationships between subsets of a complex dataset. Specifically, we will use side-by-side **violin plots** to examine differences in the empirical distribution of subsets of the data sets \n",
    "2. **Pairwise scatter plots** allow you to display a matrix of all pairwise combinations of variables. Other relationships and plot aesthetics can be added to these plots. \n",
    "3. A technique known as **faceting**. Faceting involves using values of categorical or numeric variables to create a systematic grid of related plots. Faceting goes by several other monikers, including **conditional plotting**, the **method of small multiples** or **lattice plotting**. \n"
   ]
  },
  {
   "cell_type": "markdown",
   "metadata": {},
   "source": [
    "\n",
    "### Violin plots\n",
    "\n",
    "Now, we will use Seaborn to create a violin plot. A violin plot uses a kernel density estimation plot around a vertical line. The violin plots can be stacked, with a group by operation. This layout allows the viewer to make comparisons between the subsets of the dataset.\n",
    "\n",
    "Execute the code in the cell below and examine the results."
   ]
  },
  {
   "cell_type": "code",
   "execution_count": null,
   "metadata": {},
   "outputs": [],
   "source": [
    "fig = plt.figure(figsize=(8,8)) # define plot area\n",
    "ax = fig.gca() # define axis \n",
    "sns.set_style(\"whitegrid\")\n",
    "sns.violinplot(x = 'engine_type', y = 'price', data = auto_prices, ax = ax)\n",
    "ax.set_title('Violine plots of auto engine size by fuel type') # Give the plot a main title\n",
    "ax.set_xlabel('Engine type') # Set text for the x axis\n",
    "ax.set_ylabel('Price')# Set text for y axis"
   ]
  },
  {
   "cell_type": "markdown",
   "metadata": {},
   "source": [
    "Using this plot you can compare the distribution of price of the autos subset by the auto engine type. "
   ]
  },
  {
   "cell_type": "markdown",
   "metadata": {},
   "source": [
    "### Pair wise plots\n",
    "\n",
    "Pair wise plots, also know as plot matrices, allow viewing of multiple dimensions of a data set on one plot. A scatter plot is shown of each variable versus all other variables, arranged in an array. Another type of plot, such as a KDE plot, can be shown for each pair of variables. Other plot types can be placed along the diagonal of the array. \n",
    "\n",
    "Code to create a pair wise scatter plot for certain variables in the auto price data set is shown in the cell below. The recipe is:\n",
    "\n",
    "- Define a list of the columns we wish to display.\n",
    "- Use the Seaborn ``pairplot`` method to display the pairwise scatter plots of the subset of the pandas data frame or numpy array. The ``map_upper`` method is used to add KDE plots to the upper part of the plot array. \n",
    "- An argument to ``pairplot`` defines a color palette.\n",
    "- An argument to ``pairplot`` defines KDE plots be placed along the diagonal of the array. \n",
    "\n",
    "Execute this code to display the pair wise plot array."
   ]
  },
  {
   "cell_type": "code",
   "execution_count": null,
   "metadata": {},
   "outputs": [],
   "source": [
    "num_cols = [\"length\", \"curb_weight\", \"engine_size\", \"horsepower\", \"city_mpg\", \"price\", \"fuel_type\"] \n",
    "sns.pairplot(auto_prices[num_cols], hue='fuel_type', palette=\"Set2\", diag_kind=\"kde\", size=2).map_upper(sns.kdeplot, cmap=\"Blues_d\")"
   ]
  },
  {
   "cell_type": "markdown",
   "metadata": {},
   "source": [
    "There is a great deal of information on the above plot. Examine this plot, noticing at least the following:\n",
    "\n",
    "- There are KDE plots grouped by fuel type for each of the variables specified. \n",
    "- Autos with larger length, curb weight, engine size, and horse power are more expensive.\n",
    "- Cars with higher curb weights tend to be longer and have larger engines. \n",
    "- Longer, heavier cars, have larger engines, or more horsepower and are less fuel efficient.  \n",
    "\n",
    "Notice, that the understanding a pairwise set of plots can be difficult. With too many variables, interpretation may become infeasible. "
   ]
  },
  {
   "cell_type": "markdown",
   "metadata": {},
   "source": [
    "### Facet plots\n",
    "\n",
    "In the previous example, we created an array of plots by explicitly defining the axes or subplots. The Seaborn package allows us to create the same time of faceted plots with much less code, but with a bit less control. The code in the cell below does just this, following this recipe:\n",
    "\n",
    "- A ``FacetGrid`` is defined for the data set. In this case we have only one facet (group by variable), across columns and one facet across the rows. \n",
    "- The ``map`` method is applied to the facet grid with a plot type specified.\n",
    "- In this case, the plot type uses the ``regplot`` method to create a scatter plot. \n",
    "\n",
    "Execute the code in the cell below and examine the result."
   ]
  },
  {
   "cell_type": "code",
   "execution_count": null,
   "metadata": {},
   "outputs": [],
   "source": [
    "g = sns.FacetGrid(auto_prices, col=\"drive_wheels\", \n",
    "                  row = 'body_style', hue = 'fuel_type',  \n",
    "                  palette=\"Set2\", margin_titles=True)\n",
    "g.map(sns.regplot, 'horsepower', 'price', fit_reg = False)"
   ]
  },
  {
   "cell_type": "markdown",
   "metadata": {},
   "source": [
    "Notice that we are now projecting 5 dimensions of our data onto the 2-d plotting surface. With the small number of data samples it is difficult to make specific observations. But you can notice a few significant differences between these subsets of the dataset.  \n",
    "\n",
    "Consider that with a dataset with a much larger number of data samples these subsets will be much easier to understand. Further, the plots will be far less cluttered with only subsets of the data in the subplots.  "
   ]
  },
  {
   "cell_type": "markdown",
   "metadata": {},
   "source": [
    ">**Your turn:** Try some other facet plots. As a first example, make scatter plots using other facet variables like fuel_type and aspiration. Or, as another example, make violin plots of price by fuel_type using drive_wheels of body_style as a facet variable. Note that some of these facet groups will not have any data. "
   ]
  },
  {
   "cell_type": "code",
   "execution_count": null,
   "metadata": {},
   "outputs": [],
   "source": []
  },
  {
   "cell_type": "markdown",
   "metadata": {
    "collapsed": true
   },
   "source": [
    "## Summary\n",
    "\n",
    "We have covered a lot of ground in this tutorial. We have learned quite a bit about the relationships in the auto price data set by creating multiple views to visualize these data. \n",
    "\n",
    "Specifically, in this tutorial we have:\n",
    "\n",
    "- Examined the use of plot aesthetics and attributes with good for human perception characteristics.\n",
    "- Investigated how plot aesthetics which have poor perception qualities can be effectively used if used cautiously. \n",
    "- How plot arrays for subsets of data can be used to provide multiple views for complex data sets. \n",
    "\n",
    "Finally, **have fun exploring your data!**"
   ]
  },
  {
   "cell_type": "markdown",
   "metadata": {
    "collapsed": true
   },
   "source": [
    "#### Copyright 2019, Stephen F Elston. All rights reserved. "
   ]
  }
 ],
 "metadata": {
  "anaconda-cloud": {},
  "kernelspec": {
   "display_name": "py_venv",
   "language": "python",
   "name": "py_venv"
  },
  "language_info": {
   "codemirror_mode": {
    "name": "ipython",
    "version": 3
   },
   "file_extension": ".py",
   "mimetype": "text/x-python",
   "name": "python",
   "nbconvert_exporter": "python",
   "pygments_lexer": "ipython3",
   "version": "3.7.7"
  }
 },
 "nbformat": 4,
 "nbformat_minor": 1
}
